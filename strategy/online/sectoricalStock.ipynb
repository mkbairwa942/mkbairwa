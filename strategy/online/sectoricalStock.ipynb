{
 "cells": [
  {
   "cell_type": "code",
   "execution_count": null,
   "id": "e1ef5816-12e8-4673-9c30-bb08e7020237",
   "metadata": {},
   "outputs": [],
   "source": [
    "import requests\n",
    "import json\n",
    "import pandas as pd\n",
    "from datetime import datetime,timedelta\n"
   ]
  },
  {
   "cell_type": "code",
   "execution_count": null,
   "id": "c3013ca4-14b3-4157-8a4d-f1a721079d44",
   "metadata": {
    "scrolled": true
   },
   "outputs": [],
   "source": [
    "url = 'https://groww.in/v1/api/stocks_data/v1/all_stocks'\n",
    "headers = {\n",
    "    'Content-Type': 'application/json',\n",
    "}\n",
    "symList = []\n",
    "for i in range(3):\n",
    "    payload = {\n",
    "        \"listFilters\": {\n",
    "            \"INDUSTRY\": [],\n",
    "            \"INDEX\": []\n",
    "        },\n",
    "        \"objFilters\": {\n",
    "            \"CLOSE_PRICE\": {\"max\": 100000, \"min\": 0},\n",
    "            \"MARKET_CAP\": {\"min\": 0, \"max\": 2000000000000000}\n",
    "        },\n",
    "        \"page\": i,\n",
    "        \"size\": \"2000\",\n",
    "        \"sortBy\": \"NA\",\n",
    "        \"sortType\": \"ASC\"\n",
    "    }\n",
    "    \n",
    "    \n",
    "    \n",
    "    response = requests.post(url, headers=headers, data=json.dumps(payload))\n",
    "    \n",
    "    if response.status_code == 200:\n",
    "        symList.extend(response.json()['records'])\n",
    "        print(len(symList))\n",
    "    else:\n",
    "    \n",
    "        print(f\"Request failed with status code: {response.status_code}\")\n",
    "        print(response.text)\n",
    "        \n",
    "sectordf = pd.json_normalize(symList)\n",
    "sectordf"
   ]
  },
  {
   "cell_type": "code",
   "execution_count": null,
   "id": "11eec445-d2a4-497f-a5d4-1b487657cca9",
   "metadata": {},
   "outputs": [],
   "source": [
    "sectordf['marketCap'] = sectordf['marketCap']/1000000000\n",
    "sectordf = sectordf[sectordf.marketCap > 500]\n",
    "sectordf"
   ]
  },
  {
   "cell_type": "code",
   "execution_count": null,
   "id": "471847e0-275f-4728-9d73-9506693f6b7d",
   "metadata": {},
   "outputs": [],
   "source": [
    "secotrClassUrl = 'https://groww.in/v1/api/stocks_data/v1/all_stocks/filtersV2'\n",
    "response = requests.get(secotrClassUrl)\n",
    "industryJson= response.json()\n",
    "industryJson"
   ]
  },
  {
   "cell_type": "code",
   "execution_count": null,
   "id": "2179877f-7b34-4a2d-8ca8-f9341f447b43",
   "metadata": {},
   "outputs": [],
   "source": [
    "table_data = []\n",
    "\n",
    "# Iterate through the JSON data to extract sector, industry, and industry code\n",
    "for item in industryJson['filterData']['INDUSTRY']:\n",
    "    sector = item['sector']\n",
    "    industries = item['industries']\n",
    "    for code, industry in industries.items():\n",
    "        table_data.append({'sector': sector, 'industry': industry, 'industryCode': int(code)})\n",
    "table_data"
   ]
  },
  {
   "cell_type": "code",
   "execution_count": null,
   "id": "7db3bb88-eddf-4b0b-ad9b-cc1019ce4b8f",
   "metadata": {},
   "outputs": [],
   "source": [
    "# Create a DataFrame from the extracted data\n",
    "df = pd.DataFrame(table_data)\n",
    "df = df.sort_values(by='industryCode')\n",
    "df.reset_index(drop=True,inplace =True)\n",
    "finalsectorData = sectordf.merge(df, on = 'industryCode')\n",
    "finalsectorData = finalsectorData[['isin','companyName','industryCode','bseScriptCode','nseScriptCode','sector','industry','marketCap']]\n",
    "finalsectorData"
   ]
  },
  {
   "cell_type": "code",
   "execution_count": null,
   "id": "332b0852-5f08-4cf3-9390-9896b4ac2927",
   "metadata": {},
   "outputs": [],
   "source": [
    "finalsectorData.to_csv(\"sectorClass.csv\")"
   ]
  },
  {
   "cell_type": "code",
   "execution_count": null,
   "id": "502d8c47-a7c1-4a23-8c52-bcec1f93e12e",
   "metadata": {},
   "outputs": [],
   "source": []
  },
  {
   "cell_type": "code",
   "execution_count": null,
   "id": "785fe7b1-72c8-4c77-93b4-420b53ca67e9",
   "metadata": {},
   "outputs": [],
   "source": []
  },
  {
   "cell_type": "markdown",
   "id": "cc999449-8f17-4cc6-9820-a191f969f655",
   "metadata": {},
   "source": [
    "## Display Through Panel"
   ]
  },
  {
   "cell_type": "code",
   "execution_count": null,
   "id": "9f3d4669-80af-41b1-8eec-7e759960acad",
   "metadata": {},
   "outputs": [],
   "source": [
    "pip install panel"
   ]
  },
  {
   "cell_type": "code",
   "execution_count": null,
   "id": "058a0c17-ffc8-4d20-8e76-2106dab7b3fe",
   "metadata": {},
   "outputs": [],
   "source": [
    "import panel as pn\n",
    "pn.extension()\n",
    "df = finalsectorData\n",
    "\n",
    "# Create a Panel DataFrame\n",
    "pn_df = pn.widgets.DataFrame(df, name='DataFrame',width=1000)\n",
    "\n",
    "# Define the dropdown options as a list\n",
    "dropdown_options = list(df['sector'].unique())\n",
    "\n",
    "# Define the dropdown widget\n",
    "dropdown = pn.widgets.Select(name='Filter by Sector', options=dropdown_options)\n",
    "\n",
    "defaultIndustryList = df[df['sector'] == df['sector'].unique()[0]]['industry'].unique().tolist()\n",
    "dropdown2 = pn.widgets.Select(name='Filter by Industry', options=defaultIndustryList)\n",
    "\n",
    "# Define a function to update the displayed DataFrame based on the selected category\n",
    "def update_dataframe(event):\n",
    "    selected_category = dropdown.value\n",
    "    filtered_df = df[df['sector'] == selected_category]\n",
    "   \n",
    "    filtered_industries = df[df['sector'] == selected_category]['industry'].unique().tolist()\n",
    "    dropdown2.options = filtered_industries\n",
    "    pn_df.value = filtered_df\n",
    "\n",
    "def update_dataframe2(event):\n",
    "    selected_category = dropdown2.value\n",
    "    filtered_df = df[df['industry'] == selected_category]\n",
    "    pn_df.value = filtered_df\n",
    "\n",
    "# Set up the interaction between the dropdown and dataframe\n",
    "dropdown.param.watch(update_dataframe, 'value')\n",
    "\n",
    "dropdown2.param.watch(update_dataframe2, 'value')\n",
    "\n",
    "# Create a panel dashboard layout\n",
    "dashboard = pn.Column(\n",
    "    '## Dashboard',\n",
    "    dropdown, dropdown2,\n",
    "    pn_df\n",
    ")\n",
    "\n",
    "\n",
    "dashboard"
   ]
  },
  {
   "cell_type": "code",
   "execution_count": null,
   "id": "a4b7c40e-7b28-453f-a79d-49ab4e5c53a0",
   "metadata": {},
   "outputs": [],
   "source": []
  }
 ],
 "metadata": {
  "kernelspec": {
   "display_name": "python39",
   "language": "python",
   "name": "python39"
  },
  "language_info": {
   "codemirror_mode": {
    "name": "ipython",
    "version": 3
   },
   "file_extension": ".py",
   "mimetype": "text/x-python",
   "name": "python",
   "nbconvert_exporter": "python",
   "pygments_lexer": "ipython3",
   "version": "3.9.7"
  }
 },
 "nbformat": 4,
 "nbformat_minor": 5
}
