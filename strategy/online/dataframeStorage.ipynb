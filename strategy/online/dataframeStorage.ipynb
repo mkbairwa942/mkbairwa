{
 "cells": [
  {
   "cell_type": "code",
   "execution_count": null,
   "id": "worldwide-reader",
   "metadata": {},
   "outputs": [],
   "source": [
    "#pip install tables\n",
    "#pip install pyarrow\n",
    "\n",
    "# create folder name   dataStore   in same location "
   ]
  },
  {
   "cell_type": "code",
   "execution_count": null,
   "id": "accredited-child",
   "metadata": {},
   "outputs": [],
   "source": [
    "import pandas as pd\n",
    "import os\n",
    "import numpy as np\n",
    "\n",
    "\n",
    "data = {\n",
    "    'col1': np.random.rand(1000000),\n",
    "    'col2': np.random.randint(1, 100, size=1000000),\n",
    "    'col3': np.random.choice(['A', 'B', 'C', 'D'], size=1000000),\n",
    "    'col4': np.random.choice([True, False], size=1000000),\n",
    "    'col5': np.random.randn(1000000),\n",
    "    'col6': np.random.choice(pd.date_range(start='2022-01-01', end='2022-12-31', freq='min'), size=1000000),\n",
    "    'col7': np.random.choice(['foo', 'bar', 'baz'], size=1000000),\n",
    "    'col8': np.random.choice([10, 20, 30, 40, 50], size=1000000),\n",
    "    'col9': np.random.choice(['red', 'green', 'blue'], size=1000000),\n",
    "    'col10': np.random.choice(['apple', 'banana', 'cherry', 'orange'], size=1000000)\n",
    "}\n",
    "df = pd.DataFrame(data)\n",
    "df"
   ]
  },
  {
   "cell_type": "code",
   "execution_count": null,
   "id": "compact-radical",
   "metadata": {},
   "outputs": [],
   "source": [
    "%timeit df.to_csv('.\\dataStore\\data.csv', index=False)"
   ]
  },
  {
   "cell_type": "code",
   "execution_count": null,
   "id": "raised-architect",
   "metadata": {},
   "outputs": [],
   "source": [
    "%timeit pd.read_csv('.\\dataStore\\data.csv')\n"
   ]
  },
  {
   "cell_type": "code",
   "execution_count": null,
   "id": "dramatic-perfume",
   "metadata": {},
   "outputs": [],
   "source": [
    "pd.read_csv('.\\dataStore\\data.csv')"
   ]
  },
  {
   "cell_type": "code",
   "execution_count": null,
   "id": "eight-temperature",
   "metadata": {},
   "outputs": [],
   "source": [
    "\n",
    "size = os.stat('.\\dataStore\\data.csv').st_size\n",
    "print(f'{size >> 20} MB')"
   ]
  },
  {
   "cell_type": "code",
   "execution_count": null,
   "id": "activated-victoria",
   "metadata": {},
   "outputs": [],
   "source": [
    "%timeit df.to_hdf('.\\dataStore\\data.h5', key='hdf', mode='w',complevel=9)"
   ]
  },
  {
   "cell_type": "code",
   "execution_count": null,
   "id": "exterior-bahamas",
   "metadata": {},
   "outputs": [],
   "source": [
    "%timeit pd.read_hdf('.\\dataStore\\data.h5', key='hdf')"
   ]
  },
  {
   "cell_type": "code",
   "execution_count": null,
   "id": "adapted-class",
   "metadata": {},
   "outputs": [],
   "source": [
    "pd.read_hdf('.\\dataStore\\data.h5', key='hdf')"
   ]
  },
  {
   "cell_type": "code",
   "execution_count": null,
   "id": "dental-ladder",
   "metadata": {},
   "outputs": [],
   "source": [
    "size = os.stat('.\\dataStore\\data.h5').st_size\n",
    "print(f'{size >> 20} MB')"
   ]
  },
  {
   "cell_type": "code",
   "execution_count": null,
   "id": "bottom-functionality",
   "metadata": {},
   "outputs": [],
   "source": [
    "%timeit df.to_parquet('.\\dataStore\\data.parquet', engine='pyarrow')"
   ]
  },
  {
   "cell_type": "code",
   "execution_count": null,
   "id": "elect-slope",
   "metadata": {},
   "outputs": [],
   "source": [
    "%timeit pd.read_parquet('.\\dataStore\\data.parquet')"
   ]
  },
  {
   "cell_type": "code",
   "execution_count": null,
   "id": "nearby-arrow",
   "metadata": {},
   "outputs": [],
   "source": [
    "size = os.stat('.\\dataStore\\data.parquet').st_size\n",
    "print(f'{size >> 20} MB')"
   ]
  },
  {
   "cell_type": "code",
   "execution_count": null,
   "id": "forty-headset",
   "metadata": {},
   "outputs": [],
   "source": [
    "%timeit df.to_feather('.\\dataStore\\data.feather')"
   ]
  },
  {
   "cell_type": "code",
   "execution_count": null,
   "id": "rational-hunger",
   "metadata": {},
   "outputs": [],
   "source": [
    "%timeit pd.read_feather('.\\dataStore\\data.feather')"
   ]
  },
  {
   "cell_type": "code",
   "execution_count": null,
   "id": "prescription-turner",
   "metadata": {},
   "outputs": [],
   "source": [
    "size = os.stat('.\\dataStore\\data.feather').st_size\n",
    "print(f'{size >> 20} MB')"
   ]
  },
  {
   "cell_type": "code",
   "execution_count": null,
   "id": "needed-retirement",
   "metadata": {},
   "outputs": [],
   "source": [
    "%timeit df.to_pickle('.\\dataStore\\data.pickle')"
   ]
  },
  {
   "cell_type": "code",
   "execution_count": null,
   "id": "brown-occupation",
   "metadata": {},
   "outputs": [],
   "source": [
    "%timeit pd.read_pickle('.\\dataStore\\data.pickle')"
   ]
  },
  {
   "cell_type": "code",
   "execution_count": null,
   "id": "portuguese-messenger",
   "metadata": {},
   "outputs": [],
   "source": [
    "size = os.stat('.\\dataStore\\data.pickle').st_size\n",
    "print(f'{size >> 20} MB')"
   ]
  }
 ],
 "metadata": {
  "kernelspec": {
   "display_name": "python39",
   "language": "python",
   "name": "python39"
  },
  "language_info": {
   "codemirror_mode": {
    "name": "ipython",
    "version": 3
   },
   "file_extension": ".py",
   "mimetype": "text/x-python",
   "name": "python",
   "nbconvert_exporter": "python",
   "pygments_lexer": "ipython3",
   "version": "3.9.7"
  }
 },
 "nbformat": 4,
 "nbformat_minor": 5
}
