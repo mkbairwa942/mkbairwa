{
 "cells": [
  {
   "cell_type": "code",
   "execution_count": null,
   "id": "expressed-syndicate",
   "metadata": {},
   "outputs": [],
   "source": [
    "pip install xlwings"
   ]
  },
  {
   "cell_type": "code",
   "execution_count": null,
   "id": "dimensional-binary",
   "metadata": {},
   "outputs": [],
   "source": [
    "import xlwings as xw\n",
    "\n",
    "import pandas as pd\n",
    "from datetime import datetime, timedelta,time\n",
    "import requests\n",
    "from time import sleep"
   ]
  },
  {
   "cell_type": "code",
   "execution_count": null,
   "id": "japanese-pregnancy",
   "metadata": {},
   "outputs": [],
   "source": [
    "wb = xw.Book(r'C:\\Users\\hari\\Desktop\\demoXlwing.xlsx')    "
   ]
  },
  {
   "cell_type": "code",
   "execution_count": null,
   "id": "incorrect-packet",
   "metadata": {},
   "outputs": [],
   "source": [
    "sheet = wb.sheets['Sheet1']"
   ]
  },
  {
   "cell_type": "code",
   "execution_count": null,
   "id": "tamil-apparatus",
   "metadata": {},
   "outputs": [],
   "source": [
    "sheet = wb.sheets['Sheet2']"
   ]
  },
  {
   "cell_type": "code",
   "execution_count": null,
   "id": "terminal-chapter",
   "metadata": {},
   "outputs": [],
   "source": [
    "sheet['A1'].value = 'Foo 1'"
   ]
  },
  {
   "cell_type": "code",
   "execution_count": null,
   "id": "bored-graphic",
   "metadata": {},
   "outputs": [],
   "source": [
    "sheet['A1'].value"
   ]
  },
  {
   "cell_type": "code",
   "execution_count": null,
   "id": "outstanding-northern",
   "metadata": {},
   "outputs": [],
   "source": [
    "df = pd.DataFrame([[1,2], [3,4]], columns=['a', 'b'])\n",
    "df"
   ]
  },
  {
   "cell_type": "code",
   "execution_count": null,
   "id": "changed-spotlight",
   "metadata": {},
   "outputs": [],
   "source": [
    "sheet['E6'].value = df"
   ]
  },
  {
   "cell_type": "code",
   "execution_count": null,
   "id": "marked-trust",
   "metadata": {},
   "outputs": [],
   "source": [
    "sheet['E6'].options(pd.DataFrame, expand='table').value"
   ]
  },
  {
   "cell_type": "code",
   "execution_count": null,
   "id": "grave-firmware",
   "metadata": {},
   "outputs": [],
   "source": [
    "sheet.clear_contents()"
   ]
  },
  {
   "cell_type": "code",
   "execution_count": null,
   "id": "latest-pacific",
   "metadata": {},
   "outputs": [],
   "source": [
    "apikey = 'GOHDKDWV'\n",
    "username = 'N890646'\n",
    "pwd = '1111'\n",
    "token = 'H3CJDUDQRQUSINVQOK473XJKFNA'"
   ]
  },
  {
   "cell_type": "code",
   "execution_count": null,
   "id": "electronic-julian",
   "metadata": {},
   "outputs": [],
   "source": [
    "from smartapi import SmartConnect\n",
    "import pyotp\n",
    "obj=SmartConnect(api_key=apikey)\n",
    "data = obj.generateSession(username,pwd,pyotp.TOTP(token).now())\n",
    "data['data']['exchanges']"
   ]
  },
  {
   "cell_type": "code",
   "execution_count": null,
   "id": "fatal-jenny",
   "metadata": {},
   "outputs": [],
   "source": [
    "import requests\n",
    "url = 'https://margincalculator.angelbroking.com/OpenAPI_File/files/OpenAPIScripMaster.json'\n",
    "d = requests.get(url).json()\n",
    "token_df = pd.DataFrame.from_dict(d)\n",
    "token_df['expiry'] = pd.to_datetime(token_df['expiry']).apply(lambda x: x.date())\n",
    "token_df = token_df.astype({'strike': float})\n",
    "token_df"
   ]
  },
  {
   "cell_type": "code",
   "execution_count": null,
   "id": "floating-shanghai",
   "metadata": {},
   "outputs": [],
   "source": [
    "eqSym = token_df[(token_df.symbol.str.endswith('EQ'))]\n",
    "eqSym"
   ]
  },
  {
   "cell_type": "code",
   "execution_count": null,
   "id": "fiscal-coordinate",
   "metadata": {},
   "outputs": [],
   "source": [
    "def getData(token,obj):\n",
    "    historicParam={\n",
    "            \"exchange\": \"NSE\",\n",
    "            \"symboltoken\": f'{token}', \n",
    "            \"interval\": \"ONE_DAY\",\n",
    "            \"fromdate\": \"2022-10-02 09:15\", \n",
    "            \"todate\": f\"{datetime.now().date()} 15:30\"\n",
    "            }\n",
    "            \n",
    "        \n",
    "    res_json =obj.getCandleData(historicParam)\n",
    "    columns = ['timestamp','open','high','low','close','volume']\n",
    "    df = pd.DataFrame(res_json['data'], columns=columns)\n",
    "    df['timestamp'] = pd.to_datetime(df['timestamp'],format = '%Y-%m-%dT%H:%M:%S')\n",
    "    return df"
   ]
  },
  {
   "cell_type": "code",
   "execution_count": null,
   "id": "frozen-compact",
   "metadata": {},
   "outputs": [],
   "source": [
    "getData(11536,obj)"
   ]
  },
  {
   "cell_type": "code",
   "execution_count": null,
   "id": "neutral-notice",
   "metadata": {},
   "outputs": [],
   "source": [
    "sheet['H5'].value = 'TCS'\n",
    "sheet['E6'].value =getData(11536,obj).tail(10)"
   ]
  },
  {
   "cell_type": "code",
   "execution_count": null,
   "id": "decreased-instrumentation",
   "metadata": {},
   "outputs": [],
   "source": [
    "for i in eqSym.index[:50]:\n",
    "    token = eqSym.loc[i]['token']\n",
    "    sheet['H5'].value =  eqSym.loc[i]['symbol']\n",
    "    sheet['E6'].value = getData(token,obj).tail(10)\n",
    "    sleep(2)"
   ]
  }
 ],
 "metadata": {
  "kernelspec": {
   "display_name": "python39",
   "language": "python",
   "name": "python39"
  },
  "language_info": {
   "codemirror_mode": {
    "name": "ipython",
    "version": 3
   },
   "file_extension": ".py",
   "mimetype": "text/x-python",
   "name": "python",
   "nbconvert_exporter": "python",
   "pygments_lexer": "ipython3",
   "version": "3.9.7"
  }
 },
 "nbformat": 4,
 "nbformat_minor": 5
}
